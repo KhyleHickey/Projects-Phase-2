{
 "cells": [
  {
   "cell_type": "markdown",
   "id": "36bd48b6",
   "metadata": {},
   "source": [
    "# Simplified model of a distribution system set within Jamaica"
   ]
  },
  {
   "cell_type": "markdown",
   "id": "5b1024e6",
   "metadata": {},
   "source": [
    "Model built using PyPSA\n",
    "\n",
    "PyPSA stands for “Python for Power System Analysis”. \n",
    "PyPSA is an open source toolbox for simulating and optimising modern power systems that include features such as conventional generators with unit commitment, variable wind and solar generation, storage units, coupling to other energy sectors, and mixed alternating and direct current networks. PyPSA is designed to scale well with large networks and long time series.\n",
    "\n",
    "https://pypsa.org/#home "
   ]
  },
  {
   "cell_type": "markdown",
   "id": "59015f55",
   "metadata": {},
   "source": [
    "### Importing modules"
   ]
  },
  {
   "cell_type": "code",
   "execution_count": 60,
   "id": "2869b511",
   "metadata": {},
   "outputs": [],
   "source": [
    "import pypsa\n",
    "import pandas as pd, numpy as np\n",
    "import plotly\n"
   ]
  },
  {
   "cell_type": "markdown",
   "id": "ef974a7a",
   "metadata": {},
   "source": [
    "### Initializing network container to which all components are connected"
   ]
  },
  {
   "cell_type": "code",
   "execution_count": 29,
   "id": "f2d580c7",
   "metadata": {},
   "outputs": [],
   "source": [
    "grid = pypsa.Network()\n",
    "grid.set_snapshots(range(24))"
   ]
  },
  {
   "cell_type": "markdown",
   "id": "7e82021c",
   "metadata": {},
   "source": [
    "### Creating distribution substations which supply loads"
   ]
  },
  {
   "cell_type": "code",
   "execution_count": 30,
   "id": "e1f5597a",
   "metadata": {},
   "outputs": [],
   "source": [
    "kendal_SS = grid.add(\"Bus\", \"Kendal_Substation\")\n",
    "spurtree_SS = grid.add(\"Bus\", \"Spurtree_Substation\")\n",
    "porus_ss = grid.add(\"Bus\", \"Porus_Substation\")\n",
    "ringfeed = grid.add(\"Bus\", \"feeder_ringfeed\")"
   ]
  },
  {
   "cell_type": "code",
   "execution_count": 31,
   "id": "51371b25",
   "metadata": {},
   "outputs": [
    {
     "name": "stdout",
     "output_type": "stream",
     "text": [
      "attribute            v_nom type    x    y carrier  v_mag_pu_set  v_mag_pu_min  \\\n",
      "Kendal_Substation      1.0       0.0  0.0      AC           1.0           0.0   \n",
      "Spurtree_Substation    1.0       0.0  0.0      AC           1.0           0.0   \n",
      "Porus_Substation       1.0       0.0  0.0      AC           1.0           0.0   \n",
      "feeder_ringfeed        1.0       0.0  0.0      AC           1.0           0.0   \n",
      "\n",
      "attribute            v_mag_pu_max control sub_network  \n",
      "Kendal_Substation             inf      PQ              \n",
      "Spurtree_Substation           inf      PQ              \n",
      "Porus_Substation              inf      PQ              \n",
      "feeder_ringfeed               inf      PQ              \n"
     ]
    }
   ],
   "source": [
    "print(grid.buses)"
   ]
  },
  {
   "cell_type": "markdown",
   "id": "ab440feb",
   "metadata": {},
   "source": [
    "### Creating distribution feeders"
   ]
  },
  {
   "cell_type": "code",
   "execution_count": 32,
   "id": "b534e27b",
   "metadata": {},
   "outputs": [],
   "source": [
    "\n",
    "grid.add(\"Line\", \"Kendal_310\", bus0 = \"Kendal_Substation\", bus1 = \"feeder_ringfeed\", x = 0.0001)\n",
    "grid.add(\"Line\", \"Spurtree_310\", bus0 = \"Spurtree_Substation\", bus1 = \"feeder_ringfeed\", x = 0.0001)\n",
    "grid.add(\"Line\", \"Porus_310\", bus0  = \"Porus_Substation\", bus1 = \"feeder_ringfeed\", x = 0.0001)"
   ]
  },
  {
   "cell_type": "code",
   "execution_count": 33,
   "id": "c3a7872b",
   "metadata": {},
   "outputs": [
    {
     "name": "stdout",
     "output_type": "stream",
     "text": [
      "attribute                    bus0             bus1 type       x    r    g  \\\n",
      "Kendal_310      Kendal_Substation  feeder_ringfeed       0.0001  0.0  0.0   \n",
      "Spurtree_310  Spurtree_Substation  feeder_ringfeed       0.0001  0.0  0.0   \n",
      "Porus_310        Porus_Substation  feeder_ringfeed       0.0001  0.0  0.0   \n",
      "\n",
      "attribute       b  s_nom  s_nom_extendable  s_nom_min  ...  v_ang_min  \\\n",
      "Kendal_310    0.0    0.0             False        0.0  ...       -inf   \n",
      "Spurtree_310  0.0    0.0             False        0.0  ...       -inf   \n",
      "Porus_310     0.0    0.0             False        0.0  ...       -inf   \n",
      "\n",
      "attribute     v_ang_max  sub_network  x_pu  r_pu  g_pu  b_pu  x_pu_eff  \\\n",
      "Kendal_310          inf                0.0   0.0   0.0   0.0       0.0   \n",
      "Spurtree_310        inf                0.0   0.0   0.0   0.0       0.0   \n",
      "Porus_310           inf                0.0   0.0   0.0   0.0       0.0   \n",
      "\n",
      "attribute    r_pu_eff  s_nom_opt  \n",
      "Kendal_310        0.0        0.0  \n",
      "Spurtree_310      0.0        0.0  \n",
      "Porus_310         0.0        0.0  \n",
      "\n",
      "[3 rows x 26 columns]\n"
     ]
    }
   ],
   "source": [
    "print(grid.lines)"
   ]
  },
  {
   "cell_type": "markdown",
   "id": "50870911",
   "metadata": {},
   "source": [
    "### Adding lump loads to each feeder"
   ]
  },
  {
   "cell_type": "code",
   "execution_count": 34,
   "id": "c41e1bcd",
   "metadata": {},
   "outputs": [],
   "source": [
    "#Loads, lump loads connecetd to 210 feeders and 310 ringfeed\n",
    "grid.add(\"Load\", \"Load1\", bus = \"Kendal_Substation\", p_set = 10)\n",
    "grid.add(\"Load\", \"Load2\", bus = \"Spurtree_Substation\", p_set = 8)\n",
    "grid.add(\"Load\", \"Load3\", bus = \"Porus_Substation\", p_set = 5.6)\n",
    "grid.add(\"Load\", \"Load4\", bus = \"feeder_ringfeed\", p_set = 16)"
   ]
  },
  {
   "cell_type": "code",
   "execution_count": 35,
   "id": "c8b005ce",
   "metadata": {},
   "outputs": [
    {
     "name": "stdout",
     "output_type": "stream",
     "text": [
      "attribute                  bus type  p_set  q_set  sign\n",
      "Load1        Kendal_Substation        10.0    0.0  -1.0\n",
      "Load2      Spurtree_Substation         8.0    0.0  -1.0\n",
      "Load3         Porus_Substation         5.6    0.0  -1.0\n",
      "Load4          feeder_ringfeed        16.0    0.0  -1.0\n"
     ]
    }
   ],
   "source": [
    "print(grid.loads)"
   ]
  },
  {
   "cell_type": "code",
   "execution_count": 36,
   "id": "50fd6371",
   "metadata": {},
   "outputs": [],
   "source": [
    "#Add externl grid, generation bus\n",
    "gen_bus = grid.add(\"Bus\", \"generation_bus\")"
   ]
  },
  {
   "cell_type": "markdown",
   "id": "e775ed4d",
   "metadata": {},
   "source": [
    "### Creating individual power plants and interconnection point to grid"
   ]
  },
  {
   "cell_type": "code",
   "execution_count": 37,
   "id": "03caf283",
   "metadata": {},
   "outputs": [],
   "source": [
    "list1 = [61.65, 55.95, 60.20, 58.85, 59.46, 59.33, 56.40, 61.99, 60.62, 58.59, 60.46, 58.86, 58.83, 60.44, 55.54, 59.95, 58.73, 56.17, 60.70, 60.13, 62.14, 59.83, 57.93, 57.88]\n",
    "list2 = [21.72, 19.45, 19.48, 22.58, 19.43, 20.90, 20.29, 21.97, 21.36, 23.00, 21.35, 22.25, 19.32, 22.51, 19.69, 21.14, 19.51, 21.80, 22.89, 21.63, 21.79, 22.05, 20.67, 20.55]\n",
    "list3 = [19.40, 19.21, 19.33, 19.59, 19.50, 19.31, 20.01, 19.25, 19.99,19.55, 19.57, 19.84, 19.64, 19.69, 19.83, 19.32, 19.63, 19.47, 19.38, 19.77, 19.49, 20.00, 20.09, 19.91]\n",
    "list4 = [33.58, 35.97, 37.49, 35.79, 34.72, 35.17, 37.81, 37.32, 37.54, 35.89, 35.77, 34.47, 36.99, 33.45, 35.23, 36.06, 35.57, 36.23, 34.07, 36.18, 34.54, 37.14, 33.46, 35.46]"
   ]
  },
  {
   "cell_type": "code",
   "execution_count": 38,
   "id": "a6dac42d",
   "metadata": {},
   "outputs": [],
   "source": [
    "wigton_wf = grid.add(\"Bus\", \"wigton_windfarm\")\n",
    "wwf = grid.add(\"Generator\", \"wigton_turbine\", bus = \"wigton_windfarm\", p_set = list1, p_max_pu = 0.89, p_min_pu = 0.44)\n",
    "xfrmr = grid.add(\"Transformer\", \"xfrmr_wwf\", bus0 = \"wigton_windfarm\", bus1 = \"generation_bus\", model = \"t\", s_nom = 80.0, x = 0.6, r = 0.4)"
   ]
  },
  {
   "cell_type": "code",
   "execution_count": 39,
   "id": "345d437c",
   "metadata": {},
   "outputs": [],
   "source": [
    "hydro_lump = grid.add(\"Bus\", \"hydro_stations\")\n",
    "hydro = grid.add(\"Generator\", \"hydro_turbine\", bus = \"hydro_stations\", p_set = list2, p_max_pu = 0.75, p_min_pu = 0.34)\n",
    "xfrmr2 = grid.add(\"Transformer\", \"xfrmr_hydro\", bus0 = \"hydro_stations\", bus1 = \"generation_bus\", model = \"t\", s_nom = 40.0, x = 0.33, r = 0.15)"
   ]
  },
  {
   "cell_type": "code",
   "execution_count": 40,
   "id": "c6d1d198",
   "metadata": {},
   "outputs": [],
   "source": [
    "content_solar_park = grid.add(\"Bus\", \"content_ss\")\n",
    "content_solar_plant = grid.add(\"Generator\", \"content_solar\", bus = \"content_ss\", p_set = list3, p_max_pu = 0.99, p_min_pu = 0.86)\n",
    "xfrmr3 = grid.add(\"Transformer\", \"xfrmr_csolar\", bus0 = \"content_ss\", bus1 = \"generation_bus\", model = \"t\", s_nom = 30.0, x = 0.42, r = 0.27)\n"
   ]
  },
  {
   "cell_type": "code",
   "execution_count": 41,
   "id": "1bd29e90",
   "metadata": {},
   "outputs": [],
   "source": [
    "erec_solar_park = grid.add(\"Bus\", \"erec_ss\")\n",
    "erec_solar_plant = grid.add(\"Generator\", \"eight_rivers_solar\", bus = \"erec_ss\", p_set = list4, p_max_pu = 0.92, p_min_pu = 0.83)\n",
    "xfrmr3 = grid.add(\"Transformer\", \"xfrmr_erec\", bus0 = \"erec_ss\", bus1 = \"generation_bus\", model = \"t\", s_nom = 45.0, x = 0.17, r = 0.65)"
   ]
  },
  {
   "cell_type": "code",
   "execution_count": 42,
   "id": "69c9186e",
   "metadata": {},
   "outputs": [],
   "source": [
    "bogue = grid.add(\"Bus\", \"bougue_powerplant\")\n",
    "bogue_cc = grid.add(\"Generator\", \"combined_cycle\", bus = \"bougue_powerplant\", p_set = 120, p_max_pu = 0.87, p_min_pu = 0.78)\n",
    "xfrmr4 = grid.add(\"Transformer\", \"xfrmr_bogue\", bus0 = \"bougue_powerplant\", bus1 = \"generation_bus\", model = \"t\", s_nom = 125.0, x = 0.86, r = 0.72)\n"
   ]
  },
  {
   "cell_type": "code",
   "execution_count": 43,
   "id": "0b3c4b2a",
   "metadata": {},
   "outputs": [],
   "source": [
    "rockfort = grid.add(\"Bus\", \"rockfort_power\")\n",
    "rockfort_d = grid.add(\"Generator\", \"diesel_genset\", bus = \"rockfort_power\", p_set = 150, p_max_pu = 0.92, p_min_pu = 0.89)\n",
    "xfrmr5 = grid.add(\"Transformer\", \"xfrmr_rockfort\", bus0 = \"rockfort_power\", bus1 = \"generation_bus\", model = \"t\", s_nom = 180.0, x = 1, r = 1)"
   ]
  },
  {
   "cell_type": "code",
   "execution_count": 44,
   "id": "1b1932ef",
   "metadata": {},
   "outputs": [],
   "source": [
    "huntsbay = grid.add(\"Bus\", \"huntsbay_power\")\n",
    "huntsbay_d = grid.add(\"Generator\", \"diesel_genset_hb\", bus = \"huntsbay_power\", p_set = 200, p_max_pu = 0.86, p_min_pu = 0.77)\n",
    "xfrmr6 = grid.add(\"Transformer\", \"xfrmr_huntsbay\", bus0 = \"huntsbay_power\", bus1 = \"generation_bus\", model = \"t\", s_nom = 220, x = 1, r = 1)"
   ]
  },
  {
   "cell_type": "code",
   "execution_count": 45,
   "id": "c306ce09",
   "metadata": {},
   "outputs": [],
   "source": [
    "oldharbour = grid.add(\"Bus\", \"oldhrbr_power\")\n",
    "oldharbour_d = grid.add(\"Generator\", \"diesel_oldhrbr\", bus = \"oldhrbr_power\", p_set = 190, p_max_pu = 0.85, p_min_pu = 0.8)\n",
    "xfrmr7 = grid.add(\"Transformer\", \"xfrmr_oldhrbr\", bus0 = \"oldhrbr_power\", bus1 = \"generation_bus\", model = \"t\", s_nom = 220, x = 1, r = 1)"
   ]
  },
  {
   "cell_type": "code",
   "execution_count": 46,
   "id": "d96089a5",
   "metadata": {},
   "outputs": [],
   "source": [
    "#print(grid.transformers)"
   ]
  },
  {
   "cell_type": "code",
   "execution_count": 47,
   "id": "496be487",
   "metadata": {},
   "outputs": [
    {
     "name": "stdout",
     "output_type": "stream",
     "text": [
      "attribute            v_nom type    x    y carrier  v_mag_pu_set  v_mag_pu_min  \\\n",
      "Kendal_Substation      1.0       0.0  0.0      AC           1.0           0.0   \n",
      "Spurtree_Substation    1.0       0.0  0.0      AC           1.0           0.0   \n",
      "Porus_Substation       1.0       0.0  0.0      AC           1.0           0.0   \n",
      "feeder_ringfeed        1.0       0.0  0.0      AC           1.0           0.0   \n",
      "generation_bus         1.0       0.0  0.0      AC           1.0           0.0   \n",
      "wigton_windfarm        1.0       0.0  0.0      AC           1.0           0.0   \n",
      "hydro_stations         1.0       0.0  0.0      AC           1.0           0.0   \n",
      "content_ss             1.0       0.0  0.0      AC           1.0           0.0   \n",
      "erec_ss                1.0       0.0  0.0      AC           1.0           0.0   \n",
      "bougue_powerplant      1.0       0.0  0.0      AC           1.0           0.0   \n",
      "rockfort_power         1.0       0.0  0.0      AC           1.0           0.0   \n",
      "huntsbay_power         1.0       0.0  0.0      AC           1.0           0.0   \n",
      "oldhrbr_power          1.0       0.0  0.0      AC           1.0           0.0   \n",
      "\n",
      "attribute            v_mag_pu_max control sub_network  \n",
      "Kendal_Substation             inf      PQ              \n",
      "Spurtree_Substation           inf      PQ              \n",
      "Porus_Substation              inf      PQ              \n",
      "feeder_ringfeed               inf      PQ              \n",
      "generation_bus                inf      PQ              \n",
      "wigton_windfarm               inf      PQ              \n",
      "hydro_stations                inf      PQ              \n",
      "content_ss                    inf      PQ              \n",
      "erec_ss                       inf      PQ              \n",
      "bougue_powerplant             inf      PQ              \n",
      "rockfort_power                inf      PQ              \n",
      "huntsbay_power                inf      PQ              \n",
      "oldhrbr_power                 inf      PQ              \n"
     ]
    }
   ],
   "source": [
    "print(grid.buses)"
   ]
  },
  {
   "cell_type": "markdown",
   "id": "a908598b",
   "metadata": {},
   "source": [
    "### Adding transmission lines to connect generation bus to substations"
   ]
  },
  {
   "cell_type": "code",
   "execution_count": 48,
   "id": "01bc880d",
   "metadata": {},
   "outputs": [],
   "source": [
    "grid.add(\"Line\", \"138kv_line1\", bus0 = \"generation_bus\", bus1 = \"Kendal_Substation\", x = 0.0001)\n",
    "grid.add(\"Line\", \"138kv_line2\", bus0 = \"generation_bus\", bus1 = \"Spurtree_Substation\", x = 0.0001)\n",
    "grid.add(\"Line\", \"138kv_line3\", bus0 = \"generation_bus\", bus1 = \"Porus_Substation\", x = 0.0001)\n"
   ]
  },
  {
   "cell_type": "code",
   "execution_count": 54,
   "id": "cf8fa49d",
   "metadata": {},
   "outputs": [
    {
     "data": {
      "text/plain": [
       "count    6.000000\n",
       "mean     0.762662\n",
       "std      0.363762\n",
       "min      0.351160\n",
       "25%      0.458154\n",
       "50%      0.762662\n",
       "75%      1.067170\n",
       "max      1.174165\n",
       "dtype: float64"
      ]
     },
     "execution_count": 54,
     "metadata": {},
     "output_type": "execute_result"
    }
   ],
   "source": [
    "now = grid.snapshots[0]\n",
    "\n",
    "angle_diff = pd.Series(grid.buses_t.v_ang.loc[now,grid.lines.bus0].values -\n",
    "                       grid.buses_t.v_ang.loc[now,grid.lines.bus1].values,\n",
    "                       index=grid.lines.index)\n",
    "\n",
    "(angle_diff*180/np.pi).describe()\n"
   ]
  },
  {
   "cell_type": "code",
   "execution_count": 112,
   "id": "a0aac074",
   "metadata": {},
   "outputs": [
    {
     "name": "stdout",
     "output_type": "stream",
     "text": [
      "attribute                  bus type  p_set  q_set  sign\n",
      "Load1        Kendal_Substation        10.0    0.0  -1.0\n",
      "Load2      Spurtree_Substation         8.0    0.0  -1.0\n",
      "Load3         Porus_Substation         5.6    0.0  -1.0\n",
      "Load4          feeder_ringfeed        16.0    0.0  -1.0\n"
     ]
    }
   ],
   "source": [
    "print(grid.loads)"
   ]
  },
  {
   "cell_type": "code",
   "execution_count": null,
   "id": "abdb6481",
   "metadata": {},
   "outputs": [],
   "source": []
  }
 ],
 "metadata": {
  "kernelspec": {
   "display_name": "Python 3 (ipykernel)",
   "language": "python",
   "name": "python3"
  },
  "language_info": {
   "codemirror_mode": {
    "name": "ipython",
    "version": 3
   },
   "file_extension": ".py",
   "mimetype": "text/x-python",
   "name": "python",
   "nbconvert_exporter": "python",
   "pygments_lexer": "ipython3",
   "version": "3.8.12"
  }
 },
 "nbformat": 4,
 "nbformat_minor": 5
}
