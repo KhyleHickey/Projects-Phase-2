{
 "cells": [
  {
   "cell_type": "markdown",
   "id": "0d55d850",
   "metadata": {},
   "source": [
    "# Chakraborty PEMFC model"
   ]
  },
  {
   "cell_type": "markdown",
   "id": "55612bde",
   "metadata": {},
   "source": [
    "The new dynamic model is presented based on constant fuel utilization control (constant stoichiometry condition). The model solves the long-standing problem of mixing reversible and irreversible potentials (equilibrium and non-equilibrium states) in the Nernst voltage expression. Specifically, a Nernstian gain term is introduced for the constant fuel utilization condition, and it is shown that the Nernstian gain is an irreversibility in the computation of the output voltage of the fuel cell.\n"
   ]
  },
  {
   "cell_type": "code",
   "execution_count": null,
   "id": "77c97c64",
   "metadata": {},
   "outputs": [],
   "source": [
    "Model developed using python and OPEM (Open Source PEM )"
   ]
  },
  {
   "cell_type": "markdown",
   "id": "c73c264c",
   "metadata": {},
   "source": [
    "# Inputs"
   ]
  },
  {
   "cell_type": "code",
   "execution_count": null,
   "id": "b1322538",
   "metadata": {},
   "outputs": [],
   "source": [
    "import pandas as pd\n",
    "import urllib.request"
   ]
  },
  {
   "cell_type": "code",
   "execution_count": null,
   "id": "9f44e7bf",
   "metadata": {},
   "outputs": [],
   "source": [
    "url = \"https://raw.githubusercontent.com/KhyleHickey/Python-projects/master/pemfc%20data.csv\"\n",
    "file = \"pemfc_data.csv\"\n",
    "urllib.request.urlretrieve(url, file)"
   ]
  },
  {
   "cell_type": "code",
   "execution_count": null,
   "id": "d634d45a",
   "metadata": {},
   "outputs": [],
   "source": [
    "pd.options.display.max_rows = None"
   ]
  },
  {
   "cell_type": "code",
   "execution_count": 63,
   "id": "32be5739",
   "metadata": {},
   "outputs": [],
   "source": [
    "pd_data_1 = pd.read_csv(\"pemfc_data.csv\", sep=\",\", header=0)"
   ]
  },
  {
   "cell_type": "code",
   "execution_count": 65,
   "id": "83103975",
   "metadata": {},
   "outputs": [
    {
     "name": "stdout",
     "output_type": "stream",
     "text": [
      "      Input                                     Description        Value\n",
      "0        E0          No load voltage [V], Default Value:0.6     0.700000\n",
      "1       KH2  Hydrogen valve constant [kmol.s^(-1).atm^(-1)]     0.000843\n",
      "2      KH2O     Water valve constant [kmol.s^(-1).atm^(-1)]     0.000281\n",
      "3       KO2    Oxygen valve constant [kmol.s^(-1).atm^(-1)]     0.002520\n",
      "4        N0                                 Number of cells   236.000000\n",
      "5         R     Internal ohmic resistance [ohm] (*Optional)     0.003281\n",
      "6         T                       Fuel cell temperature [K]  1273.000000\n",
      "7   i-start          Cell operating current start point [A]     0.100000\n",
      "8    i-step                     Cell operating current step     0.100000\n",
      "9    i-stop            Cell operating current end point [A]   300.000000\n",
      "10      rho                       Hydrogen-Oxygen flow rate     1.145000\n",
      "11        u                          Fuel utilization ratio     0.800000\n"
     ]
    }
   ],
   "source": [
    "print(pd_data_1)"
   ]
  },
  {
   "cell_type": "markdown",
   "id": "aee0b053",
   "metadata": {},
   "source": [
    "# Overall Parameters"
   ]
  },
  {
   "cell_type": "code",
   "execution_count": 56,
   "id": "5110f2bf",
   "metadata": {},
   "outputs": [
    {
     "data": {
      "text/html": [
       "<img src=\"https://raw.githubusercontent.com/KhyleHickey/Python-projects/master/Screenshot%20(725).png\"/>"
      ],
      "text/plain": [
       "<IPython.core.display.Image object>"
      ]
     },
     "execution_count": 56,
     "metadata": {},
     "output_type": "execute_result"
    }
   ],
   "source": [
    "from IPython.display import Image\n",
    "from IPython.core.display import HTML \n",
    "Image(url= \"https://raw.githubusercontent.com/KhyleHickey/Python-projects/master/Screenshot%20(725).png\")"
   ]
  },
  {
   "cell_type": "markdown",
   "id": "2859dd75",
   "metadata": {},
   "source": [
    "# Graphs"
   ]
  },
  {
   "cell_type": "code",
   "execution_count": 66,
   "id": "ea5d4301",
   "metadata": {},
   "outputs": [
    {
     "data": {
      "text/html": [
       "<img src=\"https://raw.githubusercontent.com/KhyleHickey/Python-projects/master/power%20vs%20current.png\"/>"
      ],
      "text/plain": [
       "<IPython.core.display.Image object>"
      ]
     },
     "execution_count": 66,
     "metadata": {},
     "output_type": "execute_result"
    }
   ],
   "source": [
    "from IPython.display import Image\n",
    "from IPython.core.display import HTML \n",
    "Image(url= \"https://raw.githubusercontent.com/KhyleHickey/Python-projects/master/power%20vs%20current.png\")"
   ]
  },
  {
   "cell_type": "markdown",
   "id": "08b45d21",
   "metadata": {},
   "source": [
    "#### Figure 1: graph of cell operating current versus output power"
   ]
  },
  {
   "cell_type": "code",
   "execution_count": 67,
   "id": "ab6a81b2",
   "metadata": {},
   "outputs": [
    {
     "data": {
      "text/html": [
       "<img src=\"https://raw.githubusercontent.com/KhyleHickey/Python-projects/master/pemfc1.png\"/>"
      ],
      "text/plain": [
       "<IPython.core.display.Image object>"
      ]
     },
     "execution_count": 67,
     "metadata": {},
     "output_type": "execute_result"
    }
   ],
   "source": [
    "from IPython.display import Image\n",
    "from IPython.core.display import HTML \n",
    "Image(url= \"https://raw.githubusercontent.com/KhyleHickey/Python-projects/master/pemfc1.png\")"
   ]
  },
  {
   "cell_type": "markdown",
   "id": "d01a8adf",
   "metadata": {},
   "source": [
    "#### Figure 2: graph of fuel cell stack voltage versus operating current"
   ]
  },
  {
   "cell_type": "code",
   "execution_count": 70,
   "id": "d77c1cfb",
   "metadata": {},
   "outputs": [
    {
     "data": {
      "text/html": [
       "<img src=\"https://raw.githubusercontent.com/KhyleHickey/Python-projects/master/pemfc3.png\"/>"
      ],
      "text/plain": [
       "<IPython.core.display.Image object>"
      ]
     },
     "execution_count": 70,
     "metadata": {},
     "output_type": "execute_result"
    }
   ],
   "source": [
    "from IPython.display import Image\n",
    "from IPython.core.display import HTML \n",
    "Image(url= \"https://raw.githubusercontent.com/KhyleHickey/Python-projects/master/pemfc3.png\")"
   ]
  },
  {
   "cell_type": "markdown",
   "id": "e3c1abfc",
   "metadata": {},
   "source": [
    "#### Figure 3: graph of efficiency versus cell operating current "
   ]
  },
  {
   "cell_type": "code",
   "execution_count": 71,
   "id": "2047559d",
   "metadata": {},
   "outputs": [
    {
     "data": {
      "text/html": [
       "<img src=\"https://raw.githubusercontent.com/KhyleHickey/Python-projects/master/pemfc4.png\"/>"
      ],
      "text/plain": [
       "<IPython.core.display.Image object>"
      ]
     },
     "execution_count": 71,
     "metadata": {},
     "output_type": "execute_result"
    }
   ],
   "source": [
    "from IPython.display import Image\n",
    "from IPython.core.display import HTML \n",
    "Image(url= \"https://raw.githubusercontent.com/KhyleHickey/Python-projects/master/pemfc4.png\")"
   ]
  },
  {
   "cell_type": "markdown",
   "id": "d0b11e82",
   "metadata": {},
   "source": [
    "#### Figure 4: graph of oxygen pressure at inlet versus cell operating current"
   ]
  },
  {
   "cell_type": "code",
   "execution_count": 1,
   "id": "7ad196ca",
   "metadata": {},
   "outputs": [
    {
     "data": {
      "text/html": [
       "<img src=\"https://raw.githubusercontent.com/KhyleHickey/Python-projects/master/pemfc5.png\"/>"
      ],
      "text/plain": [
       "<IPython.core.display.Image object>"
      ]
     },
     "execution_count": 1,
     "metadata": {},
     "output_type": "execute_result"
    }
   ],
   "source": [
    "from IPython.display import Image\n",
    "from IPython.core.display import HTML \n",
    "Image(url= \"https://raw.githubusercontent.com/KhyleHickey/Python-projects/master/pemfc5.png\")"
   ]
  },
  {
   "cell_type": "markdown",
   "id": "db268cb1",
   "metadata": {},
   "source": [
    "#### Figure 5: graph of water pressure (liquid) at outlet versus cell operating current"
   ]
  },
  {
   "cell_type": "code",
   "execution_count": 2,
   "id": "2f673c56",
   "metadata": {},
   "outputs": [
    {
     "data": {
      "text/html": [
       "<img src=\"https://raw.githubusercontent.com/KhyleHickey/Python-projects/master/pemfc7.png\"/>"
      ],
      "text/plain": [
       "<IPython.core.display.Image object>"
      ]
     },
     "execution_count": 2,
     "metadata": {},
     "output_type": "execute_result"
    }
   ],
   "source": [
    "from IPython.display import Image\n",
    "from IPython.core.display import HTML \n",
    "Image(url= \"https://raw.githubusercontent.com/KhyleHickey/Python-projects/master/pemfc7.png\")"
   ]
  },
  {
   "cell_type": "markdown",
   "id": "b7f1b65f",
   "metadata": {},
   "source": [
    "#### Figure 6: Thermal power produced versus cell operating current"
   ]
  },
  {
   "cell_type": "code",
   "execution_count": null,
   "id": "8f4e982f",
   "metadata": {},
   "outputs": [],
   "source": []
  }
 ],
 "metadata": {
  "kernelspec": {
   "display_name": "Python 3 (ipykernel)",
   "language": "python",
   "name": "python3"
  },
  "language_info": {
   "codemirror_mode": {
    "name": "ipython",
    "version": 3
   },
   "file_extension": ".py",
   "mimetype": "text/x-python",
   "name": "python",
   "nbconvert_exporter": "python",
   "pygments_lexer": "ipython3",
   "version": "3.8.12"
  }
 },
 "nbformat": 4,
 "nbformat_minor": 5
}
